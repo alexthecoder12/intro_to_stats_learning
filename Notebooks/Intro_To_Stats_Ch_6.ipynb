{
 "cells": [
  {
   "cell_type": "code",
   "execution_count": 1,
   "metadata": {
    "ExecuteTime": {
     "end_time": "2019-09-06T13:57:45.411025Z",
     "start_time": "2019-09-06T13:57:43.198899Z"
    }
   },
   "outputs": [],
   "source": [
    "import os\n",
    "import pandas as pd\n",
    "import numpy as np\n",
    "import matplotlib.pyplot as plt\n",
    "import seaborn as sns\n",
    "\n",
    "%matplotlib inline\n",
    "sns.set_style('darkgrid')"
   ]
  },
  {
   "cell_type": "code",
   "execution_count": 2,
   "metadata": {
    "ExecuteTime": {
     "end_time": "2019-09-06T13:57:45.469028Z",
     "start_time": "2019-09-06T13:57:45.412025Z"
    }
   },
   "outputs": [
    {
     "data": {
      "text/html": [
       "<div>\n",
       "<style scoped>\n",
       "    .dataframe tbody tr th:only-of-type {\n",
       "        vertical-align: middle;\n",
       "    }\n",
       "\n",
       "    .dataframe tbody tr th {\n",
       "        vertical-align: top;\n",
       "    }\n",
       "\n",
       "    .dataframe thead th {\n",
       "        text-align: right;\n",
       "    }\n",
       "</style>\n",
       "<table border=\"1\" class=\"dataframe\">\n",
       "  <thead>\n",
       "    <tr style=\"text-align: right;\">\n",
       "      <th></th>\n",
       "      <th>AtBat</th>\n",
       "      <th>Hits</th>\n",
       "      <th>HmRun</th>\n",
       "      <th>Runs</th>\n",
       "      <th>RBI</th>\n",
       "      <th>Walks</th>\n",
       "      <th>Years</th>\n",
       "      <th>CAtBat</th>\n",
       "      <th>CHits</th>\n",
       "      <th>CHmRun</th>\n",
       "      <th>CRuns</th>\n",
       "      <th>CRBI</th>\n",
       "      <th>CWalks</th>\n",
       "      <th>League</th>\n",
       "      <th>Division</th>\n",
       "      <th>PutOuts</th>\n",
       "      <th>Assists</th>\n",
       "      <th>Errors</th>\n",
       "      <th>Salary</th>\n",
       "      <th>NewLeague</th>\n",
       "    </tr>\n",
       "  </thead>\n",
       "  <tbody>\n",
       "    <tr>\n",
       "      <td>0</td>\n",
       "      <td>315</td>\n",
       "      <td>81</td>\n",
       "      <td>7</td>\n",
       "      <td>24</td>\n",
       "      <td>38</td>\n",
       "      <td>39</td>\n",
       "      <td>14</td>\n",
       "      <td>3449</td>\n",
       "      <td>835</td>\n",
       "      <td>69</td>\n",
       "      <td>321</td>\n",
       "      <td>414</td>\n",
       "      <td>375</td>\n",
       "      <td>N</td>\n",
       "      <td>W</td>\n",
       "      <td>632</td>\n",
       "      <td>43</td>\n",
       "      <td>10</td>\n",
       "      <td>475.0</td>\n",
       "      <td>N</td>\n",
       "    </tr>\n",
       "    <tr>\n",
       "      <td>1</td>\n",
       "      <td>479</td>\n",
       "      <td>130</td>\n",
       "      <td>18</td>\n",
       "      <td>66</td>\n",
       "      <td>72</td>\n",
       "      <td>76</td>\n",
       "      <td>3</td>\n",
       "      <td>1624</td>\n",
       "      <td>457</td>\n",
       "      <td>63</td>\n",
       "      <td>224</td>\n",
       "      <td>266</td>\n",
       "      <td>263</td>\n",
       "      <td>A</td>\n",
       "      <td>W</td>\n",
       "      <td>880</td>\n",
       "      <td>82</td>\n",
       "      <td>14</td>\n",
       "      <td>480.0</td>\n",
       "      <td>A</td>\n",
       "    </tr>\n",
       "    <tr>\n",
       "      <td>2</td>\n",
       "      <td>496</td>\n",
       "      <td>141</td>\n",
       "      <td>20</td>\n",
       "      <td>65</td>\n",
       "      <td>78</td>\n",
       "      <td>37</td>\n",
       "      <td>11</td>\n",
       "      <td>5628</td>\n",
       "      <td>1575</td>\n",
       "      <td>225</td>\n",
       "      <td>828</td>\n",
       "      <td>838</td>\n",
       "      <td>354</td>\n",
       "      <td>N</td>\n",
       "      <td>E</td>\n",
       "      <td>200</td>\n",
       "      <td>11</td>\n",
       "      <td>3</td>\n",
       "      <td>500.0</td>\n",
       "      <td>N</td>\n",
       "    </tr>\n",
       "    <tr>\n",
       "      <td>3</td>\n",
       "      <td>321</td>\n",
       "      <td>87</td>\n",
       "      <td>10</td>\n",
       "      <td>39</td>\n",
       "      <td>42</td>\n",
       "      <td>30</td>\n",
       "      <td>2</td>\n",
       "      <td>396</td>\n",
       "      <td>101</td>\n",
       "      <td>12</td>\n",
       "      <td>48</td>\n",
       "      <td>46</td>\n",
       "      <td>33</td>\n",
       "      <td>N</td>\n",
       "      <td>E</td>\n",
       "      <td>805</td>\n",
       "      <td>40</td>\n",
       "      <td>4</td>\n",
       "      <td>91.5</td>\n",
       "      <td>N</td>\n",
       "    </tr>\n",
       "    <tr>\n",
       "      <td>4</td>\n",
       "      <td>594</td>\n",
       "      <td>169</td>\n",
       "      <td>4</td>\n",
       "      <td>74</td>\n",
       "      <td>51</td>\n",
       "      <td>35</td>\n",
       "      <td>11</td>\n",
       "      <td>4408</td>\n",
       "      <td>1133</td>\n",
       "      <td>19</td>\n",
       "      <td>501</td>\n",
       "      <td>336</td>\n",
       "      <td>194</td>\n",
       "      <td>A</td>\n",
       "      <td>W</td>\n",
       "      <td>282</td>\n",
       "      <td>421</td>\n",
       "      <td>25</td>\n",
       "      <td>750.0</td>\n",
       "      <td>A</td>\n",
       "    </tr>\n",
       "  </tbody>\n",
       "</table>\n",
       "</div>"
      ],
      "text/plain": [
       "   AtBat  Hits  HmRun  Runs  RBI  Walks  Years  CAtBat  CHits  CHmRun  CRuns  \\\n",
       "0    315    81      7    24   38     39     14    3449    835      69    321   \n",
       "1    479   130     18    66   72     76      3    1624    457      63    224   \n",
       "2    496   141     20    65   78     37     11    5628   1575     225    828   \n",
       "3    321    87     10    39   42     30      2     396    101      12     48   \n",
       "4    594   169      4    74   51     35     11    4408   1133      19    501   \n",
       "\n",
       "   CRBI  CWalks League Division  PutOuts  Assists  Errors  Salary NewLeague  \n",
       "0   414     375      N        W      632       43      10   475.0         N  \n",
       "1   266     263      A        W      880       82      14   480.0         A  \n",
       "2   838     354      N        E      200       11       3   500.0         N  \n",
       "3    46      33      N        E      805       40       4    91.5         N  \n",
       "4   336     194      A        W      282      421      25   750.0         A  "
      ]
     },
     "execution_count": 2,
     "metadata": {},
     "output_type": "execute_result"
    }
   ],
   "source": [
    "df = pd.read_csv('../Data/hitters.csv')\n",
    "df.head()"
   ]
  },
  {
   "cell_type": "code",
   "execution_count": 3,
   "metadata": {
    "ExecuteTime": {
     "end_time": "2019-09-06T13:57:45.492030Z",
     "start_time": "2019-09-06T13:57:45.471028Z"
    }
   },
   "outputs": [
    {
     "data": {
      "text/plain": [
       "array(['W', 'E'], dtype=object)"
      ]
     },
     "execution_count": 3,
     "metadata": {},
     "output_type": "execute_result"
    }
   ],
   "source": [
    "df['Division'].unique()"
   ]
  },
  {
   "cell_type": "code",
   "execution_count": 4,
   "metadata": {
    "ExecuteTime": {
     "end_time": "2019-09-06T13:57:45.580035Z",
     "start_time": "2019-09-06T13:57:45.494030Z"
    }
   },
   "outputs": [
    {
     "data": {
      "text/plain": [
       "array(['N', 'A'], dtype=object)"
      ]
     },
     "execution_count": 4,
     "metadata": {},
     "output_type": "execute_result"
    }
   ],
   "source": [
    "df['League'].unique()"
   ]
  },
  {
   "cell_type": "code",
   "execution_count": 5,
   "metadata": {
    "ExecuteTime": {
     "end_time": "2019-09-06T13:57:45.665040Z",
     "start_time": "2019-09-06T13:57:45.581035Z"
    }
   },
   "outputs": [
    {
     "data": {
      "text/plain": [
       "array(['N', 'A'], dtype=object)"
      ]
     },
     "execution_count": 5,
     "metadata": {},
     "output_type": "execute_result"
    }
   ],
   "source": [
    "df['NewLeague'].unique()"
   ]
  },
  {
   "cell_type": "code",
   "execution_count": 6,
   "metadata": {
    "ExecuteTime": {
     "end_time": "2019-09-06T13:57:46.645096Z",
     "start_time": "2019-09-06T13:57:45.667040Z"
    }
   },
   "outputs": [],
   "source": [
    "from sklearn.preprocessing import LabelEncoder\n",
    "\n",
    "# encode string columns to int cols\n",
    "lbl_make = LabelEncoder()\n",
    "df['Division_Int'] = lbl_make.fit_transform(df['Division'])\n",
    "df['League_Int'] = lbl_make.fit_transform(df['League'])\n",
    "df['NewLeague_Int'] = lbl_make.fit_transform(df['NewLeague'])"
   ]
  },
  {
   "cell_type": "code",
   "execution_count": 7,
   "metadata": {
    "ExecuteTime": {
     "end_time": "2019-09-06T13:57:46.827106Z",
     "start_time": "2019-09-06T13:57:46.646096Z"
    }
   },
   "outputs": [],
   "source": [
    "from sklearn.linear_model import LinearRegression\n",
    "from sklearn.feature_selection import RFE # recursive feature elimination\n",
    "from sklearn.metrics import r2_score\n",
    "\n",
    "X_cols = [x for x in df.columns if x not in ['Salary', 'Division', \n",
    "                                               'League', 'NewLeague']]\n",
    "X = df[X_cols]\n",
    "y = df['Salary']\n",
    "\n",
    "estimator = LinearRegression()\n",
    "selector = RFE(estimator, 5, step=1)\n",
    "selector = selector.fit(X,y)"
   ]
  },
  {
   "cell_type": "code",
   "execution_count": 8,
   "metadata": {
    "ExecuteTime": {
     "end_time": "2019-09-06T13:57:46.834106Z",
     "start_time": "2019-09-06T13:57:46.829106Z"
    }
   },
   "outputs": [
    {
     "data": {
      "text/plain": [
       "Index(['HmRun', 'Walks', 'Years', 'Division_Int', 'League_Int'], dtype='object')"
      ]
     },
     "execution_count": 8,
     "metadata": {},
     "output_type": "execute_result"
    }
   ],
   "source": [
    "X_cols_final = X.columns[selector.support_ ]\n",
    "X_cols_final"
   ]
  },
  {
   "cell_type": "code",
   "execution_count": 9,
   "metadata": {
    "ExecuteTime": {
     "end_time": "2019-09-06T13:57:46.900110Z",
     "start_time": "2019-09-06T13:57:46.836107Z"
    }
   },
   "outputs": [
    {
     "data": {
      "text/plain": [
       "array([ 5,  3,  1,  4,  6,  1,  1, 14, 15, 10,  7,  9,  8, 13, 12, 11,  1,\n",
       "        1,  2])"
      ]
     },
     "execution_count": 9,
     "metadata": {},
     "output_type": "execute_result"
    }
   ],
   "source": [
    "selector.ranking_"
   ]
  },
  {
   "cell_type": "code",
   "execution_count": 10,
   "metadata": {
    "ExecuteTime": {
     "end_time": "2019-09-06T13:57:46.967114Z",
     "start_time": "2019-09-06T13:57:46.905111Z"
    }
   },
   "outputs": [
    {
     "data": {
      "text/plain": [
       "(0.5461158619125321, 0.5106269786875861)"
      ]
     },
     "execution_count": 10,
     "metadata": {},
     "output_type": "execute_result"
    }
   ],
   "source": [
    "reg = LinearRegression().fit(X,y)\n",
    "r_2 = r2_score(y, reg.predict(X))\n",
    "\n",
    "adj_r_2 = 1 - (1 - r_2) * ( (df.shape[0] - 1) / (df.shape[0] - len(X_cols) - 1) )\n",
    "\n",
    "r_2, adj_r_2"
   ]
  },
  {
   "cell_type": "code",
   "execution_count": 11,
   "metadata": {
    "ExecuteTime": {
     "end_time": "2019-09-06T13:57:47.033118Z",
     "start_time": "2019-09-06T13:57:46.969114Z"
    }
   },
   "outputs": [
    {
     "data": {
      "text/plain": [
       "(0.3634506139833972, 0.3510663846834633)"
      ]
     },
     "execution_count": 11,
     "metadata": {},
     "output_type": "execute_result"
    }
   ],
   "source": [
    "reg = LinearRegression().fit(X[X_cols_final],y)\n",
    "r_2 = r2_score(y, reg.predict(X[X_cols_final]))\n",
    "\n",
    "adj_r_2 = 1 - (1 - r_2) * ( (df.shape[0] - 1) / (df.shape[0] - len(X_cols_final) - 1) )\n",
    "\n",
    "r_2, adj_r_2"
   ]
  },
  {
   "cell_type": "markdown",
   "metadata": {},
   "source": [
    "More features = better peformance, even after using adjusted R^2."
   ]
  },
  {
   "cell_type": "markdown",
   "metadata": {},
   "source": [
    "##### Using train set and test set"
   ]
  },
  {
   "cell_type": "code",
   "execution_count": 12,
   "metadata": {
    "ExecuteTime": {
     "end_time": "2019-09-06T13:57:47.108122Z",
     "start_time": "2019-09-06T13:57:47.035118Z"
    }
   },
   "outputs": [],
   "source": [
    "from sklearn.model_selection import train_test_split\n",
    "\n",
    "X_train, X_test, y_train, y_test = train_test_split(X, y, test_size=0.2)"
   ]
  },
  {
   "cell_type": "code",
   "execution_count": 13,
   "metadata": {
    "ExecuteTime": {
     "end_time": "2019-09-06T13:57:47.183126Z",
     "start_time": "2019-09-06T13:57:47.110122Z"
    }
   },
   "outputs": [],
   "source": [
    "estimator = LinearRegression()\n",
    "selector = RFE(estimator, 5, step=1)\n",
    "selector = selector.fit(X_train,y_train)\n",
    "\n",
    "X_cols_final = X.columns[selector.support_ ]"
   ]
  },
  {
   "cell_type": "code",
   "execution_count": 14,
   "metadata": {
    "ExecuteTime": {
     "end_time": "2019-09-06T13:57:47.240130Z",
     "start_time": "2019-09-06T13:57:47.185127Z"
    }
   },
   "outputs": [
    {
     "data": {
      "text/plain": [
       "(0.36753015454782945, 0.3180777798005404)"
      ]
     },
     "execution_count": 14,
     "metadata": {},
     "output_type": "execute_result"
    }
   ],
   "source": [
    "reg = LinearRegression().fit(X_train,y_train)\n",
    "r_2 = r2_score(y_test, reg.predict(X_test))\n",
    "\n",
    "adj_r_2 = 1 - (1 - r_2) * ( (df.shape[0] - 1) / (df.shape[0] - len(X_cols) - 1) )\n",
    "\n",
    "r_2, adj_r_2"
   ]
  },
  {
   "cell_type": "code",
   "execution_count": 15,
   "metadata": {
    "ExecuteTime": {
     "end_time": "2019-09-06T13:57:47.316134Z",
     "start_time": "2019-09-06T13:57:47.241130Z"
    }
   },
   "outputs": [
    {
     "data": {
      "text/plain": [
       "(0.27901196063917655, 0.2649849559823513)"
      ]
     },
     "execution_count": 15,
     "metadata": {},
     "output_type": "execute_result"
    }
   ],
   "source": [
    "reg = LinearRegression().fit(X[X_cols_final],y)\n",
    "r_2 = r2_score(y, reg.predict(X[X_cols_final]))\n",
    "\n",
    "adj_r_2 = 1 - (1 - r_2) * ( (df.shape[0] - 1) / (df.shape[0] - len(X_cols_final) - 1) )\n",
    "\n",
    "r_2, adj_r_2"
   ]
  },
  {
   "cell_type": "markdown",
   "metadata": {},
   "source": [
    "Both perform worse when using train and test set, but adjusted r^2 are closer for the two."
   ]
  },
  {
   "cell_type": "markdown",
   "metadata": {},
   "source": [
    "##### Choosing best among models with cross validation"
   ]
  },
  {
   "cell_type": "code",
   "execution_count": 16,
   "metadata": {
    "ExecuteTime": {
     "end_time": "2019-09-06T13:57:47.995173Z",
     "start_time": "2019-09-06T13:57:47.318134Z"
    }
   },
   "outputs": [
    {
     "data": {
      "text/plain": [
       "[-198137.9812256503,\n",
       " -192200.44315722465,\n",
       " -176041.62691411705,\n",
       " -166943.12998673655,\n",
       " -139349.76375341168,\n",
       " -130091.29239848908,\n",
       " -123319.83990238832,\n",
       " -120617.07695608726,\n",
       " -122650.4527851238,\n",
       " -126410.0371371372,\n",
       " -120464.73732221808,\n",
       " -119453.90459125304,\n",
       " -124949.85100411536]"
      ]
     },
     "execution_count": 16,
     "metadata": {},
     "output_type": "execute_result"
    }
   ],
   "source": [
    "from sklearn.model_selection import cross_validate\n",
    "from sklearn.metrics import mean_squared_error\n",
    "\n",
    "# select model with lowest average MSE with number of predictors\n",
    "estimator = LinearRegression()\n",
    "\n",
    "arr_mse = []\n",
    "arr_r_2 = []\n",
    "\n",
    "for num_pred in range(1, len(X_cols)-5):\n",
    "    selector = RFE(estimator, num_pred, step=1)\n",
    "    cv_results = cross_validate(selector, X, y, cv=3, \n",
    "                                scoring=('r2', 'neg_mean_squared_error'))\n",
    "    arr_mse.append(cv_results['test_neg_mean_squared_error'].mean())\n",
    "    arr_r_2.append(cv_results['test_r2'].mean())\n",
    "    \n",
    "    \n",
    "arr_mse"
   ]
  },
  {
   "cell_type": "code",
   "execution_count": 17,
   "metadata": {
    "ExecuteTime": {
     "end_time": "2019-09-06T13:57:48.002173Z",
     "start_time": "2019-09-06T13:57:47.997173Z"
    }
   },
   "outputs": [
    {
     "data": {
      "text/plain": [
       "(-119453.90459125304, 11)"
      ]
     },
     "execution_count": 17,
     "metadata": {},
     "output_type": "execute_result"
    }
   ],
   "source": [
    "idx_min = np.argmin([abs(x) for x in arr_mse])\n",
    "arr_mse[idx_min], idx_min"
   ]
  },
  {
   "cell_type": "code",
   "execution_count": 18,
   "metadata": {
    "ExecuteTime": {
     "end_time": "2019-09-06T13:57:48.066177Z",
     "start_time": "2019-09-06T13:57:48.004173Z"
    }
   },
   "outputs": [
    {
     "data": {
      "text/plain": [
       "(0.3886733871126262, 7)"
      ]
     },
     "execution_count": 18,
     "metadata": {},
     "output_type": "execute_result"
    }
   ],
   "source": [
    "idx_max = np.argmax([abs(x) for x in arr_r_2])\n",
    "arr_r_2[idx_max], idx_max"
   ]
  },
  {
   "cell_type": "markdown",
   "metadata": {},
   "source": [
    "## Ridge and lasso regression with CV"
   ]
  },
  {
   "cell_type": "markdown",
   "metadata": {},
   "source": [
    "#### Ridge"
   ]
  },
  {
   "cell_type": "code",
   "execution_count": 19,
   "metadata": {
    "ExecuteTime": {
     "end_time": "2019-09-06T13:57:48.139181Z",
     "start_time": "2019-09-06T13:57:48.068177Z"
    }
   },
   "outputs": [
    {
     "data": {
      "text/plain": [
       "(0.36781806139801965, 0.31838819788593065)"
      ]
     },
     "execution_count": 19,
     "metadata": {},
     "output_type": "execute_result"
    }
   ],
   "source": [
    "from sklearn.linear_model import RidgeCV\n",
    "\n",
    "clf = RidgeCV(alphas=np.arange(0.1, 1.1, 0.1)).fit(X_train, y_train)\n",
    "y_pred = clf.predict(X_test)\n",
    "\n",
    "r_2 = r2_score(y_test, y_pred)\n",
    "adj_r_2 = 1 - (1 - r_2) * ( (df.shape[0] - 1) / (df.shape[0] - len(X_cols) - 1) )\n",
    "\n",
    "r_2, adj_r_2"
   ]
  },
  {
   "cell_type": "code",
   "execution_count": 20,
   "metadata": {
    "ExecuteTime": {
     "end_time": "2019-09-06T13:57:48.201185Z",
     "start_time": "2019-09-06T13:57:48.141181Z"
    }
   },
   "outputs": [
    {
     "data": {
      "text/plain": [
       "(1.0,\n",
       " array([-2.14137472e+00,  9.95826060e+00,  6.60942697e+00, -4.70259529e+00,\n",
       "        -4.70129988e+00,  8.10702771e+00, -6.97585223e+00, -3.56339933e-02,\n",
       "        -3.93359708e-01,  1.34908117e+00,  1.78675400e+00,  5.66517678e-01,\n",
       "        -1.06936248e+00,  2.50492744e-01,  3.04146540e-01,  2.39316654e-01,\n",
       "        -1.19079275e+02,  2.16926839e+01,  3.47780032e+01]))"
      ]
     },
     "execution_count": 20,
     "metadata": {},
     "output_type": "execute_result"
    }
   ],
   "source": [
    "clf.alpha_, clf.coef_"
   ]
  },
  {
   "cell_type": "markdown",
   "metadata": {},
   "source": [
    "#### Lasso"
   ]
  },
  {
   "cell_type": "code",
   "execution_count": 21,
   "metadata": {
    "ExecuteTime": {
     "end_time": "2019-09-06T13:57:48.640210Z",
     "start_time": "2019-09-06T13:57:48.202185Z"
    },
    "scrolled": false
   },
   "outputs": [
    {
     "data": {
      "text/plain": [
       "(0.4666945880200877, 0.42499581095169947)"
      ]
     },
     "execution_count": 21,
     "metadata": {},
     "output_type": "execute_result"
    }
   ],
   "source": [
    "from sklearn.linear_model import LassoCV\n",
    "\n",
    "clf = LassoCV(cv=10, random_state=0).fit(X_train, y_train)\n",
    "y_pred = clf.predict(X_test)\n",
    "\n",
    "r_2 = r2_score(y_test, y_pred)\n",
    "adj_r_2 = 1 - (1 - r_2) * ( (df.shape[0] - 1) / (df.shape[0] - len(X_cols) - 1) )\n",
    "\n",
    "r_2, adj_r_2"
   ]
  },
  {
   "cell_type": "code",
   "execution_count": 22,
   "metadata": {
    "ExecuteTime": {
     "end_time": "2019-09-06T13:57:48.647210Z",
     "start_time": "2019-09-06T13:57:48.642210Z"
    }
   },
   "outputs": [
    {
     "data": {
      "text/plain": [
       "(578.6517026311567,\n",
       " array([-0.        ,  1.42002629, -0.        ,  0.        , -0.        ,\n",
       "         1.57548521, -0.        , -0.24162418,  0.33762211,  0.        ,\n",
       "         1.04370954,  0.73711797, -0.04646893,  0.24150624,  0.21449015,\n",
       "        -0.        , -0.        ,  0.        ,  0.        ]))"
      ]
     },
     "execution_count": 22,
     "metadata": {},
     "output_type": "execute_result"
    }
   ],
   "source": [
    "clf.alpha_, clf.coef_"
   ]
  },
  {
   "cell_type": "markdown",
   "metadata": {},
   "source": [
    "## PCA"
   ]
  },
  {
   "cell_type": "code",
   "execution_count": 23,
   "metadata": {
    "ExecuteTime": {
     "end_time": "2019-09-06T13:57:48.717214Z",
     "start_time": "2019-09-06T13:57:48.650210Z"
    }
   },
   "outputs": [],
   "source": [
    "# https://scikit-learn.org/stable/modules/generated/sklearn.decomposition.PCA.html#sklearn.decomposition.PCA\n",
    "# https://etav.github.io/python/scikit_pca.html\n",
    "from sklearn.decomposition import PCA\n",
    "\n",
    "covar_matrix = PCA(n_components = len(X_cols))"
   ]
  },
  {
   "cell_type": "code",
   "execution_count": 24,
   "metadata": {
    "ExecuteTime": {
     "end_time": "2019-09-06T13:57:48.797219Z",
     "start_time": "2019-09-06T13:57:48.720214Z"
    }
   },
   "outputs": [
    {
     "data": {
      "text/plain": [
       "array([97.4, 98.7, 99.2, 99.5, 99.7, 99.8, 99.9, 99.9, 99.9, 99.9, 99.9,\n",
       "       99.9, 99.9, 99.9, 99.9, 99.9, 99.9, 99.9, 99.9])"
      ]
     },
     "execution_count": 24,
     "metadata": {},
     "output_type": "execute_result"
    }
   ],
   "source": [
    "covar_matrix.fit(X)\n",
    "variance = covar_matrix.explained_variance_ratio_ #calculate variance ratios\n",
    "\n",
    "var = np.cumsum(np.round(covar_matrix.explained_variance_ratio_, decimals=3)*100)\n",
    "var #cumulative sum of variance explained with [n] features"
   ]
  },
  {
   "cell_type": "code",
   "execution_count": 25,
   "metadata": {
    "ExecuteTime": {
     "end_time": "2019-09-06T13:57:49.136238Z",
     "start_time": "2019-09-06T13:57:48.799219Z"
    }
   },
   "outputs": [
    {
     "data": {
      "text/plain": [
       "[<matplotlib.lines.Line2D at 0xb86e320>]"
      ]
     },
     "execution_count": 25,
     "metadata": {},
     "output_type": "execute_result"
    },
    {
     "data": {
      "image/png": "[encoded data removed]",
      "text/plain": [
       "<Figure size 432x288 with 1 Axes>"
      ]
     },
     "metadata": {
      "needs_background": "light"
     },
     "output_type": "display_data"
    }
   ],
   "source": [
    "plt.ylabel('% Variance Explained')\n",
    "plt.xlabel('# of Features')\n",
    "plt.title('PCA Analysis')\n",
    "plt.ylim(97, 100.5)\n",
    "plt.xticks(np.arange(0, len(X_cols)+2, 1))\n",
    "plt.style.context('seaborn-whitegrid')\n",
    "\n",
    "\n",
    "plt.plot(var)"
   ]
  },
  {
   "cell_type": "markdown",
   "metadata": {},
   "source": [
    "## Partial Least Squares (PLS)\n",
    "\n",
    "PCA but considers response variable as well when determining hyperplanes of maximum variance."
   ]
  },
  {
   "cell_type": "code",
   "execution_count": 26,
   "metadata": {
    "ExecuteTime": {
     "end_time": "2019-09-06T13:57:49.234244Z",
     "start_time": "2019-09-06T13:57:49.138238Z"
    }
   },
   "outputs": [
    {
     "data": {
      "text/plain": [
       "[0.3978880956368517,\n",
       " 0.3952082959465526,\n",
       " 0.38758429675129036,\n",
       " 0.4109127391783437,\n",
       " 0.34478752053868633,\n",
       " 0.3088442233809542,\n",
       " 0.32347498349949144,\n",
       " 0.3859483699376981,\n",
       " 0.3775137374899361,\n",
       " 0.37837941891836213,\n",
       " 0.3871981475175479,\n",
       " 0.37008285497076787,\n",
       " 0.3593132014722876,\n",
       " 0.3606418198875122,\n",
       " 0.36895533931193447,\n",
       " 0.379501249672235,\n",
       " 0.3768154414691439,\n",
       " 0.374045139528156]"
      ]
     },
     "execution_count": 26,
     "metadata": {},
     "output_type": "execute_result"
    }
   ],
   "source": [
    "from sklearn.cross_decomposition import PLSRegression\n",
    "\n",
    "arr_r_2 = []\n",
    "\n",
    "for n_comp in range(1, len(X_cols)):\n",
    "    pls = PLSRegression(n_components=n_comp)\n",
    "    pls.fit(X_train, y_train)\n",
    "    r_2 = r2_score(y_test, pls.predict(X_test))\n",
    "    arr_r_2.append(r_2)\n",
    "\n",
    "arr_r_2"
   ]
  },
  {
   "cell_type": "code",
   "execution_count": 27,
   "metadata": {
    "ExecuteTime": {
     "end_time": "2019-09-06T13:57:49.245244Z",
     "start_time": "2019-09-06T13:57:49.235244Z"
    }
   },
   "outputs": [
    {
     "name": "stdout",
     "output_type": "stream",
     "text": [
      "3: 41.09%\n"
     ]
    }
   ],
   "source": [
    "idx_max = np.argmax(arr_r_2)\n",
    "print(f'{idx_max}: {round(arr_r_2[idx_max] * 100, 2)}%')"
   ]
  },
  {
   "cell_type": "markdown",
   "metadata": {},
   "source": [
    "## Exercises"
   ]
  },
  {
   "cell_type": "markdown",
   "metadata": {},
   "source": [
    "### 8."
   ]
  },
  {
   "cell_type": "code",
   "execution_count": 28,
   "metadata": {
    "ExecuteTime": {
     "end_time": "2019-09-06T13:57:49.309248Z",
     "start_time": "2019-09-06T13:57:49.248245Z"
    }
   },
   "outputs": [],
   "source": [
    "# R rnorm - scipy.stats.norm.cdf()\n",
    "# R qnorm - scipy.stats.norm.ppf()\n",
    "\n",
    "from scipy.stats import norm\n",
    "\n",
    "x = np.random.randint(-250, 250, size=100)\n",
    "np.random.shuffle(x)\n",
    "\n",
    "X = np.array(norm.cdf(x))\n",
    "epsilon = np.random.randint(-10, 10, size=100)\n",
    "\n",
    "X = X.reshape(len(X), 1)"
   ]
  },
  {
   "cell_type": "code",
   "execution_count": 29,
   "metadata": {
    "ExecuteTime": {
     "end_time": "2019-09-06T13:57:49.390253Z",
     "start_time": "2019-09-06T13:57:49.311248Z"
    }
   },
   "outputs": [],
   "source": [
    "from sklearn.preprocessing import PolynomialFeatures\n",
    "\n",
    "beta0 = 3\n",
    "beta1 = 2\n",
    "beta2 = -3\n",
    "beta3 = 0.3\n",
    "\n",
    "poly = PolynomialFeatures(degree=3)\n",
    "X_poly = poly.fit_transform(X)\n",
    "\n",
    "X_poly[:, 0] *= beta0\n",
    "X_poly[:, 1] *= beta1\n",
    "X_poly[:, 2] *= beta2\n",
    "X_poly[:, 3] *= beta3\n",
    "\n",
    "y = np.sum(X_poly, axis=1) + epsilon"
   ]
  },
  {
   "cell_type": "code",
   "execution_count": 30,
   "metadata": {
    "ExecuteTime": {
     "end_time": "2019-09-06T13:57:49.460257Z",
     "start_time": "2019-09-06T13:57:49.392253Z"
    }
   },
   "outputs": [],
   "source": [
    "from sklearn.model_selection import train_test_split\n",
    "\n",
    "X_train, X_test, y_train, y_test = train_test_split(X_poly, y)"
   ]
  },
  {
   "cell_type": "code",
   "execution_count": 31,
   "metadata": {
    "ExecuteTime": {
     "end_time": "2019-09-06T13:57:49.546262Z",
     "start_time": "2019-09-06T13:57:49.461257Z"
    }
   },
   "outputs": [
    {
     "data": {
      "text/plain": [
       "([-0.10746544384804069, -83811473121.30869, -77249341704.41707],\n",
       " [35.5259327856241, 2688554101030.5605, 2478050160756.9062])"
      ]
     },
     "execution_count": 31,
     "metadata": {},
     "output_type": "execute_result"
    }
   ],
   "source": [
    "from sklearn.model_selection import cross_validate\n",
    "from sklearn.metrics import mean_squared_error\n",
    "\n",
    "# select model with lowest average MSE with number of predictors\n",
    "estimator = LinearRegression()\n",
    "\n",
    "arr_mse = []\n",
    "arr_r_2 = []\n",
    "\n",
    "for num_pred in range(1, 4):\n",
    "    selector = RFE(estimator, num_pred, step=1) # recursive feature elmination\n",
    "    reg = selector.fit(X_train,y_train)\n",
    "    r_2 = r2_score(y_test, reg.predict(X_test))\n",
    "    mse = mean_squared_error(y_test, reg.predict(X_test))\n",
    "    arr_r_2.append(r_2)\n",
    "    arr_mse.append(mse)\n",
    "    \n",
    "    \n",
    "arr_r_2, arr_mse"
   ]
  },
  {
   "cell_type": "markdown",
   "metadata": {},
   "source": [
    "Simplest model with one variable works best."
   ]
  },
  {
   "cell_type": "markdown",
   "metadata": {},
   "source": [
    "### 9."
   ]
  },
  {
   "cell_type": "code",
   "execution_count": 32,
   "metadata": {
    "ExecuteTime": {
     "end_time": "2019-09-06T13:57:49.655268Z",
     "start_time": "2019-09-06T13:57:49.548262Z"
    }
   },
   "outputs": [
    {
     "data": {
      "text/html": [
       "<div>\n",
       "<style scoped>\n",
       "    .dataframe tbody tr th:only-of-type {\n",
       "        vertical-align: middle;\n",
       "    }\n",
       "\n",
       "    .dataframe tbody tr th {\n",
       "        vertical-align: top;\n",
       "    }\n",
       "\n",
       "    .dataframe thead th {\n",
       "        text-align: right;\n",
       "    }\n",
       "</style>\n",
       "<table border=\"1\" class=\"dataframe\">\n",
       "  <thead>\n",
       "    <tr style=\"text-align: right;\">\n",
       "      <th></th>\n",
       "      <th>Private</th>\n",
       "      <th>Apps</th>\n",
       "      <th>Accept</th>\n",
       "      <th>Enroll</th>\n",
       "      <th>Top10perc</th>\n",
       "      <th>Top25perc</th>\n",
       "      <th>F.Undergrad</th>\n",
       "      <th>P.Undergrad</th>\n",
       "      <th>Outstate</th>\n",
       "      <th>Room.Board</th>\n",
       "      <th>Books</th>\n",
       "      <th>Personal</th>\n",
       "      <th>PhD</th>\n",
       "      <th>Terminal</th>\n",
       "      <th>S.F.Ratio</th>\n",
       "      <th>perc.alumni</th>\n",
       "      <th>Expend</th>\n",
       "      <th>Grad.Rate</th>\n",
       "    </tr>\n",
       "  </thead>\n",
       "  <tbody>\n",
       "    <tr>\n",
       "      <td>0</td>\n",
       "      <td>Yes</td>\n",
       "      <td>1660</td>\n",
       "      <td>1232</td>\n",
       "      <td>721</td>\n",
       "      <td>23</td>\n",
       "      <td>52</td>\n",
       "      <td>2885</td>\n",
       "      <td>537</td>\n",
       "      <td>7440</td>\n",
       "      <td>3300</td>\n",
       "      <td>450</td>\n",
       "      <td>2200</td>\n",
       "      <td>70</td>\n",
       "      <td>78</td>\n",
       "      <td>18.1</td>\n",
       "      <td>12</td>\n",
       "      <td>7041</td>\n",
       "      <td>60</td>\n",
       "    </tr>\n",
       "    <tr>\n",
       "      <td>1</td>\n",
       "      <td>Yes</td>\n",
       "      <td>2186</td>\n",
       "      <td>1924</td>\n",
       "      <td>512</td>\n",
       "      <td>16</td>\n",
       "      <td>29</td>\n",
       "      <td>2683</td>\n",
       "      <td>1227</td>\n",
       "      <td>12280</td>\n",
       "      <td>6450</td>\n",
       "      <td>750</td>\n",
       "      <td>1500</td>\n",
       "      <td>29</td>\n",
       "      <td>30</td>\n",
       "      <td>12.2</td>\n",
       "      <td>16</td>\n",
       "      <td>10527</td>\n",
       "      <td>56</td>\n",
       "    </tr>\n",
       "    <tr>\n",
       "      <td>2</td>\n",
       "      <td>Yes</td>\n",
       "      <td>1428</td>\n",
       "      <td>1097</td>\n",
       "      <td>336</td>\n",
       "      <td>22</td>\n",
       "      <td>50</td>\n",
       "      <td>1036</td>\n",
       "      <td>99</td>\n",
       "      <td>11250</td>\n",
       "      <td>3750</td>\n",
       "      <td>400</td>\n",
       "      <td>1165</td>\n",
       "      <td>53</td>\n",
       "      <td>66</td>\n",
       "      <td>12.9</td>\n",
       "      <td>30</td>\n",
       "      <td>8735</td>\n",
       "      <td>54</td>\n",
       "    </tr>\n",
       "    <tr>\n",
       "      <td>3</td>\n",
       "      <td>Yes</td>\n",
       "      <td>417</td>\n",
       "      <td>349</td>\n",
       "      <td>137</td>\n",
       "      <td>60</td>\n",
       "      <td>89</td>\n",
       "      <td>510</td>\n",
       "      <td>63</td>\n",
       "      <td>12960</td>\n",
       "      <td>5450</td>\n",
       "      <td>450</td>\n",
       "      <td>875</td>\n",
       "      <td>92</td>\n",
       "      <td>97</td>\n",
       "      <td>7.7</td>\n",
       "      <td>37</td>\n",
       "      <td>19016</td>\n",
       "      <td>59</td>\n",
       "    </tr>\n",
       "    <tr>\n",
       "      <td>4</td>\n",
       "      <td>Yes</td>\n",
       "      <td>193</td>\n",
       "      <td>146</td>\n",
       "      <td>55</td>\n",
       "      <td>16</td>\n",
       "      <td>44</td>\n",
       "      <td>249</td>\n",
       "      <td>869</td>\n",
       "      <td>7560</td>\n",
       "      <td>4120</td>\n",
       "      <td>800</td>\n",
       "      <td>1500</td>\n",
       "      <td>76</td>\n",
       "      <td>72</td>\n",
       "      <td>11.9</td>\n",
       "      <td>2</td>\n",
       "      <td>10922</td>\n",
       "      <td>15</td>\n",
       "    </tr>\n",
       "  </tbody>\n",
       "</table>\n",
       "</div>"
      ],
      "text/plain": [
       "  Private  Apps  Accept  Enroll  Top10perc  Top25perc  F.Undergrad  \\\n",
       "0     Yes  1660    1232     721         23         52         2885   \n",
       "1     Yes  2186    1924     512         16         29         2683   \n",
       "2     Yes  1428    1097     336         22         50         1036   \n",
       "3     Yes   417     349     137         60         89          510   \n",
       "4     Yes   193     146      55         16         44          249   \n",
       "\n",
       "   P.Undergrad  Outstate  Room.Board  Books  Personal  PhD  Terminal  \\\n",
       "0          537      7440        3300    450      2200   70        78   \n",
       "1         1227     12280        6450    750      1500   29        30   \n",
       "2           99     11250        3750    400      1165   53        66   \n",
       "3           63     12960        5450    450       875   92        97   \n",
       "4          869      7560        4120    800      1500   76        72   \n",
       "\n",
       "   S.F.Ratio  perc.alumni  Expend  Grad.Rate  \n",
       "0       18.1           12    7041         60  \n",
       "1       12.2           16   10527         56  \n",
       "2       12.9           30    8735         54  \n",
       "3        7.7           37   19016         59  \n",
       "4       11.9            2   10922         15  "
      ]
     },
     "execution_count": 32,
     "metadata": {},
     "output_type": "execute_result"
    }
   ],
   "source": [
    "df = pd.read_csv('../Data/colleges.csv')\n",
    "df.head()"
   ]
  },
  {
   "cell_type": "code",
   "execution_count": 33,
   "metadata": {
    "ExecuteTime": {
     "end_time": "2019-09-06T13:57:49.696270Z",
     "start_time": "2019-09-06T13:57:49.657268Z"
    }
   },
   "outputs": [],
   "source": [
    "from sklearn.model_selection import train_test_split\n",
    "from sklearn.preprocessing import LabelEncoder\n",
    "\n",
    "\n",
    "# encode string columns to int cols\n",
    "lbl_make = LabelEncoder()\n",
    "df['Private_Int'] = lbl_make.fit_transform(df['Private'])\n",
    "\n",
    "X_cols = [x for x in df.columns if x not in ['Private', 'Apps']]\n",
    "X = df[X_cols]\n",
    "y = df['Apps']\n",
    "\n",
    "X_train, X_test, y_train, y_test = train_test_split(X, y)"
   ]
  },
  {
   "cell_type": "code",
   "execution_count": 34,
   "metadata": {
    "ExecuteTime": {
     "end_time": "2019-09-06T13:57:49.770274Z",
     "start_time": "2019-09-06T13:57:49.698270Z"
    }
   },
   "outputs": [
    {
     "name": "stdout",
     "output_type": "stream",
     "text": [
      "MSE = 1407384.1188819488\n"
     ]
    }
   ],
   "source": [
    "from sklearn.linear_model import LinearRegression\n",
    "from sklearn.metrics import mean_squared_error\n",
    "\n",
    "lin_reg = LinearRegression().fit(X_train, y_train)\n",
    "y_pred = lin_reg.predict(X_test)\n",
    "print(f'MSE = {mean_squared_error(y_test, y_pred)}')"
   ]
  },
  {
   "cell_type": "code",
   "execution_count": 35,
   "metadata": {
    "ExecuteTime": {
     "end_time": "2019-09-06T13:57:49.942284Z",
     "start_time": "2019-09-06T13:57:49.772275Z"
    }
   },
   "outputs": [
    {
     "data": {
      "text/plain": [
       "(1405755.4336764072, 24.700000000000003)"
      ]
     },
     "execution_count": 35,
     "metadata": {},
     "output_type": "execute_result"
    }
   ],
   "source": [
    "from sklearn.linear_model import RidgeCV\n",
    "ridge_reg = RidgeCV(alphas=np.arange(0.1, 100, 0.1)).fit(X_train, y_train)\n",
    "y_pred = ridge_reg.predict(X_test)\n",
    "\n",
    "mse = mean_squared_error(y_test, y_pred)\n",
    "\n",
    "mse, ridge_reg.alpha_"
   ]
  },
  {
   "cell_type": "code",
   "execution_count": 36,
   "metadata": {
    "ExecuteTime": {
     "end_time": "2019-09-06T13:57:50.031289Z",
     "start_time": "2019-09-06T13:57:49.945284Z"
    }
   },
   "outputs": [
    {
     "data": {
      "text/plain": [
       "(1592127.1378012681,\n",
       " 15600.976313113335,\n",
       " array([ 1.60951136, -0.88052897,  0.        ,  0.        ,  0.08687419,\n",
       "        -0.02391452, -0.08233886,  0.09819007,  0.        ,  0.        ,\n",
       "         0.        , -0.        ,  0.        ,  0.        ,  0.14279408,\n",
       "         0.        , -0.        ]))"
      ]
     },
     "execution_count": 36,
     "metadata": {},
     "output_type": "execute_result"
    }
   ],
   "source": [
    "from sklearn.linear_model import LassoCV\n",
    "lasso_reg = LassoCV(cv=5, random_state=0).fit(X_train, y_train)\n",
    "y_pred = lasso_reg.predict(X_test)\n",
    "\n",
    "mse = mean_squared_error(y_test, y_pred)\n",
    "\n",
    "mse, lasso_reg.alpha_, lasso_reg.coef_"
   ]
  },
  {
   "cell_type": "code",
   "execution_count": 37,
   "metadata": {
    "ExecuteTime": {
     "end_time": "2019-09-06T13:57:50.261302Z",
     "start_time": "2019-09-06T13:57:50.033289Z"
    }
   },
   "outputs": [
    {
     "data": {
      "text/plain": [
       "Text(0.5, 1.0, 'R^2 of different models')"
      ]
     },
     "execution_count": 37,
     "metadata": {},
     "output_type": "execute_result"
    },
    {
     "data": {
      "image/png": "[encoded data removed]",
      "text/plain": [
       "<Figure size 432x288 with 1 Axes>"
      ]
     },
     "metadata": {
      "needs_background": "light"
     },
     "output_type": "display_data"
    }
   ],
   "source": [
    "lin_r2 = r2_score(y_test, lin_reg.predict(X_test))\n",
    "ridge_r2 = r2_score(y_test, ridge_reg.predict(X_test))\n",
    "lasso_r2 = r2_score(y_test, lasso_reg.predict(X_test))\n",
    "\n",
    "sns.barplot([lin_r2, ridge_r2, lasso_r2],\n",
    "            ['Linear', 'Ridge', 'Lasso'], \n",
    "            orient='h')\n",
    "\n",
    "plt.title('R^2 of different models')"
   ]
  }
 ],
 "metadata": {
  "kernelspec": {
   "display_name": "Python 3",
   "language": "python",
   "name": "python3"
  },
  "language_info": {
   "codemirror_mode": {
    "name": "ipython",
    "version": 3
   },
   "file_extension": ".py",
   "mimetype": "text/x-python",
   "name": "python",
   "nbconvert_exporter": "python",
   "pygments_lexer": "ipython3",
   "version": "3.7.3"
  }
 },
 "nbformat": 4,
 "nbformat_minor": 2
}
